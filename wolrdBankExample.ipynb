{
 "cells": [
  {
   "cell_type": "markdown",
   "metadata": {},
   "source": [
    "<div align=\"right\">MIT Big Data and Social Analytics</div>"
   ]
  },
  {
   "cell_type": "markdown",
   "metadata": {},
   "source": [
    "# Collecting and visualizing World Bank Data\n",
    "In this example, we look for interesting data in the world bank to visualize."
   ]
  },
  {
   "cell_type": "code",
   "execution_count": 1,
   "metadata": {
    "collapsed": false
   },
   "outputs": [],
   "source": [
    "import pandas as pd\n",
    "from pandas_datareader import wb # to import world bank data\n",
    "import numpy as np\n",
    "import matplotlib.pylab as plt\n",
    "import matplotlib\n",
    "import folium # for plotting on maps\n",
    "import geocoder # on pypi, to easily get lat,long data\n",
    "import wikipedia # to get gata from wikipedia\n",
    "\n",
    "#set plot options\n",
    "%matplotlib inline\n",
    "matplotlib.rcParams['figure.figsize'] = (10, 8)"
   ]
  },
  {
   "cell_type": "code",
   "execution_count": 2,
   "metadata": {
    "collapsed": false,
    "scrolled": true
   },
   "outputs": [
    {
     "data": {
      "text/html": [
       "<div>\n",
       "<table border=\"1\" class=\"dataframe\">\n",
       "  <thead>\n",
       "    <tr style=\"text-align: right;\">\n",
       "      <th></th>\n",
       "      <th>id</th>\n",
       "      <th>name</th>\n",
       "      <th>source</th>\n",
       "      <th>sourceNote</th>\n",
       "      <th>sourceOrganization</th>\n",
       "      <th>topics</th>\n",
       "    </tr>\n",
       "  </thead>\n",
       "  <tbody>\n",
       "    <tr>\n",
       "      <th>10280</th>\n",
       "      <td>SN.ITK.DFCT</td>\n",
       "      <td>Depth of the food deficit (kilocalories per pe...</td>\n",
       "      <td>World Development Indicators</td>\n",
       "      <td>The depth of the food deficit indicates how ma...</td>\n",
       "      <td>b'Food and Agriculture Organization, Food Secu...</td>\n",
       "      <td>Health</td>\n",
       "    </tr>\n",
       "    <tr>\n",
       "      <th>10281</th>\n",
       "      <td>SN.ITK.DPTH</td>\n",
       "      <td>Depth of hunger (kilocalories per person per day)</td>\n",
       "      <td>Africa Development Indicators</td>\n",
       "      <td>Depth of hunger or the intensity of food depri...</td>\n",
       "      <td>b'Food and Agriculture Organization, Food Secu...</td>\n",
       "      <td>Health</td>\n",
       "    </tr>\n",
       "  </tbody>\n",
       "</table>\n",
       "</div>"
      ],
      "text/plain": [
       "                id                                               name  \\\n",
       "10280  SN.ITK.DFCT  Depth of the food deficit (kilocalories per pe...   \n",
       "10281  SN.ITK.DPTH  Depth of hunger (kilocalories per person per day)   \n",
       "\n",
       "                              source  \\\n",
       "10280   World Development Indicators   \n",
       "10281  Africa Development Indicators   \n",
       "\n",
       "                                              sourceNote  \\\n",
       "10280  The depth of the food deficit indicates how ma...   \n",
       "10281  Depth of hunger or the intensity of food depri...   \n",
       "\n",
       "                                      sourceOrganization   topics  \n",
       "10280  b'Food and Agriculture Organization, Food Secu...  Health   \n",
       "10281  b'Food and Agriculture Organization, Food Secu...  Health   "
      ]
     },
     "execution_count": 2,
     "metadata": {},
     "output_type": "execute_result"
    }
   ],
   "source": [
    "# search world bank indicators for average caloric intake\n",
    "wb.search('calories')"
   ]
  },
  {
   "cell_type": "markdown",
   "metadata": {},
   "source": [
    "### Look at the returned hits\n",
    "It looks like id SN.ITK.DFCT has data about caloric deficits.  Since I find this this interesting, this is what I'll look it.  After North Korea's recent request to the UN for aid after the earthquake hit, I began to wonder how wide spread food shortages are.\n",
    "\n",
    "Average over the 10 years 2006-2015 and visualize.\n",
    "\n"
   ]
  },
  {
   "cell_type": "code",
   "execution_count": 3,
   "metadata": {
    "collapsed": true
   },
   "outputs": [],
   "source": [
    "# select caloric deficit as indicator\n",
    "wb_indicator = 'SN.ITK.DFCT'\n",
    "\n",
    "# choose start and end years of data\n",
    "start_year = 2006\n",
    "end_year = 2015\n",
    "\n",
    "# download data set from world bank\n",
    "foodDef_df = wb.download(indicator = wb_indicator,\n",
    "                  country = ['all'],\n",
    "                  start = start_year,\n",
    "                  end = end_year)"
   ]
  },
  {
   "cell_type": "code",
   "execution_count": 4,
   "metadata": {
    "collapsed": false
   },
   "outputs": [
    {
     "data": {
      "text/html": [
       "<div>\n",
       "<table border=\"1\" class=\"dataframe\">\n",
       "  <thead>\n",
       "    <tr style=\"text-align: right;\">\n",
       "      <th></th>\n",
       "      <th>country</th>\n",
       "      <th>year</th>\n",
       "      <th>caloricDeficit</th>\n",
       "    </tr>\n",
       "  </thead>\n",
       "  <tbody>\n",
       "    <tr>\n",
       "      <th>128</th>\n",
       "      <td>Late-demographic dividend</td>\n",
       "      <td>2013</td>\n",
       "      <td>79.253485</td>\n",
       "    </tr>\n",
       "    <tr>\n",
       "      <th>1209</th>\n",
       "      <td>Sao Tome and Principe</td>\n",
       "      <td>2013</td>\n",
       "      <td>35.000000</td>\n",
       "    </tr>\n",
       "    <tr>\n",
       "      <th>1262</th>\n",
       "      <td>South Africa</td>\n",
       "      <td>2010</td>\n",
       "      <td>26.000000</td>\n",
       "    </tr>\n",
       "    <tr>\n",
       "      <th>1331</th>\n",
       "      <td>Tanzania</td>\n",
       "      <td>2007</td>\n",
       "      <td>263.000000</td>\n",
       "    </tr>\n",
       "    <tr>\n",
       "      <th>69</th>\n",
       "      <td>Heavily indebted poor countries (HIPC)</td>\n",
       "      <td>2012</td>\n",
       "      <td>187.565850</td>\n",
       "    </tr>\n",
       "    <tr>\n",
       "      <th>852</th>\n",
       "      <td>Kazakhstan</td>\n",
       "      <td>2010</td>\n",
       "      <td>21.000000</td>\n",
       "    </tr>\n",
       "    <tr>\n",
       "      <th>1238</th>\n",
       "      <td>Sierra Leone</td>\n",
       "      <td>2014</td>\n",
       "      <td>169.000000</td>\n",
       "    </tr>\n",
       "    <tr>\n",
       "      <th>772</th>\n",
       "      <td>Haiti</td>\n",
       "      <td>2010</td>\n",
       "      <td>524.000000</td>\n",
       "    </tr>\n",
       "    <tr>\n",
       "      <th>934</th>\n",
       "      <td>Lebanon</td>\n",
       "      <td>2008</td>\n",
       "      <td>27.000000</td>\n",
       "    </tr>\n",
       "    <tr>\n",
       "      <th>976</th>\n",
       "      <td>Malawi</td>\n",
       "      <td>2006</td>\n",
       "      <td>189.000000</td>\n",
       "    </tr>\n",
       "  </tbody>\n",
       "</table>\n",
       "</div>"
      ],
      "text/plain": [
       "                                     country  year  caloricDeficit\n",
       "128                Late-demographic dividend  2013       79.253485\n",
       "1209                   Sao Tome and Principe  2013       35.000000\n",
       "1262                            South Africa  2010       26.000000\n",
       "1331                                Tanzania  2007      263.000000\n",
       "69    Heavily indebted poor countries (HIPC)  2012      187.565850\n",
       "852                               Kazakhstan  2010       21.000000\n",
       "1238                            Sierra Leone  2014      169.000000\n",
       "772                                    Haiti  2010      524.000000\n",
       "934                                  Lebanon  2008       27.000000\n",
       "976                                   Malawi  2006      189.000000"
      ]
     },
     "execution_count": 4,
     "metadata": {},
     "output_type": "execute_result"
    }
   ],
   "source": [
    "# preview dataset\n",
    "foodDef_df.sample(n=10)\n",
    "\n",
    "# rename SN.ITK.DFCT to caloric deficit\n",
    "foodDef_df.rename(columns={'SN.ITK.DFCT':'caloricDeficit'},inplace=True)\n",
    "# drop NaN's\n",
    "foodDef_df.dropna(inplace=True)\n",
    "# collapse column indices\n",
    "foodDef_df.reset_index(inplace=True)\n",
    "# preview once more\n",
    "foodDef_df.sample(n=10)"
   ]
  },
  {
   "cell_type": "code",
   "execution_count": 5,
   "metadata": {
    "collapsed": false
   },
   "outputs": [
    {
     "data": {
      "text/html": [
       "<div>\n",
       "<table border=\"1\" class=\"dataframe\">\n",
       "  <thead>\n",
       "    <tr>\n",
       "      <th></th>\n",
       "      <th>country</th>\n",
       "      <th>caloricDeficit</th>\n",
       "    </tr>\n",
       "    <tr>\n",
       "      <th></th>\n",
       "      <th></th>\n",
       "      <th>mean</th>\n",
       "    </tr>\n",
       "  </thead>\n",
       "  <tbody>\n",
       "    <tr>\n",
       "      <th>26</th>\n",
       "      <td>Costa Rica</td>\n",
       "      <td>37.700000</td>\n",
       "    </tr>\n",
       "    <tr>\n",
       "      <th>128</th>\n",
       "      <td>Sudan</td>\n",
       "      <td>171.666667</td>\n",
       "    </tr>\n",
       "    <tr>\n",
       "      <th>93</th>\n",
       "      <td>Middle income</td>\n",
       "      <td>99.648974</td>\n",
       "    </tr>\n",
       "    <tr>\n",
       "      <th>135</th>\n",
       "      <td>Togo</td>\n",
       "      <td>136.000000</td>\n",
       "    </tr>\n",
       "    <tr>\n",
       "      <th>44</th>\n",
       "      <td>Ghana</td>\n",
       "      <td>46.300000</td>\n",
       "    </tr>\n",
       "    <tr>\n",
       "      <th>46</th>\n",
       "      <td>Guinea</td>\n",
       "      <td>135.400000</td>\n",
       "    </tr>\n",
       "    <tr>\n",
       "      <th>33</th>\n",
       "      <td>East Asia &amp; Pacific (IDA &amp; IBRD countries)</td>\n",
       "      <td>103.965214</td>\n",
       "    </tr>\n",
       "    <tr>\n",
       "      <th>59</th>\n",
       "      <td>Iran, Islamic Rep.</td>\n",
       "      <td>45.400000</td>\n",
       "    </tr>\n",
       "    <tr>\n",
       "      <th>130</th>\n",
       "      <td>Swaziland</td>\n",
       "      <td>155.000000</td>\n",
       "    </tr>\n",
       "    <tr>\n",
       "      <th>127</th>\n",
       "      <td>Sub-Saharan Africa (excluding high income)</td>\n",
       "      <td>148.593709</td>\n",
       "    </tr>\n",
       "  </tbody>\n",
       "</table>\n",
       "</div>"
      ],
      "text/plain": [
       "                                        country caloricDeficit\n",
       "                                                          mean\n",
       "26                                   Costa Rica      37.700000\n",
       "128                                       Sudan     171.666667\n",
       "93                                Middle income      99.648974\n",
       "135                                        Togo     136.000000\n",
       "44                                        Ghana      46.300000\n",
       "46                                       Guinea     135.400000\n",
       "33   East Asia & Pacific (IDA & IBRD countries)     103.965214\n",
       "59                           Iran, Islamic Rep.      45.400000\n",
       "130                                   Swaziland     155.000000\n",
       "127  Sub-Saharan Africa (excluding high income)     148.593709"
      ]
     },
     "execution_count": 5,
     "metadata": {},
     "output_type": "execute_result"
    }
   ],
   "source": [
    "# compute statistics\n",
    "foodDef_gbCountry = foodDef_df.groupby('country')\n",
    "foodDefStats_df = foodDef_gbCountry.agg({'caloricDeficit': [np.mean]}).reset_index()\n",
    "# Note: the .reset_index() method collapses the 3 levels of indices to 2\n",
    "foodDefStats_df.sample(n=10)"
   ]
  },
  {
   "cell_type": "markdown",
   "metadata": {},
   "source": [
    "### spot check\n",
    "There is some house-cleaning to do with the double levels at the top."
   ]
  },
  {
   "cell_type": "code",
   "execution_count": 6,
   "metadata": {
    "collapsed": false
   },
   "outputs": [
    {
     "data": {
      "text/html": [
       "<div>\n",
       "<table border=\"1\" class=\"dataframe\">\n",
       "  <thead>\n",
       "    <tr style=\"text-align: right;\">\n",
       "      <th></th>\n",
       "      <th>country</th>\n",
       "      <th>meanCaloricDeficit</th>\n",
       "    </tr>\n",
       "  </thead>\n",
       "  <tbody>\n",
       "    <tr>\n",
       "      <th>3</th>\n",
       "      <td>Arab World</td>\n",
       "      <td>66.87245</td>\n",
       "    </tr>\n",
       "    <tr>\n",
       "      <th>124</th>\n",
       "      <td>St. Vincent and the Grenadines</td>\n",
       "      <td>54.00000</td>\n",
       "    </tr>\n",
       "    <tr>\n",
       "      <th>20</th>\n",
       "      <td>Central African Republic</td>\n",
       "      <td>287.00000</td>\n",
       "    </tr>\n",
       "    <tr>\n",
       "      <th>45</th>\n",
       "      <td>Guatemala</td>\n",
       "      <td>97.40000</td>\n",
       "    </tr>\n",
       "    <tr>\n",
       "      <th>108</th>\n",
       "      <td>Paraguay</td>\n",
       "      <td>79.40000</td>\n",
       "    </tr>\n",
       "    <tr>\n",
       "      <th>123</th>\n",
       "      <td>Sri Lanka</td>\n",
       "      <td>234.80000</td>\n",
       "    </tr>\n",
       "    <tr>\n",
       "      <th>112</th>\n",
       "      <td>Rwanda</td>\n",
       "      <td>295.90000</td>\n",
       "    </tr>\n",
       "    <tr>\n",
       "      <th>62</th>\n",
       "      <td>Jordan</td>\n",
       "      <td>12.50000</td>\n",
       "    </tr>\n",
       "    <tr>\n",
       "      <th>107</th>\n",
       "      <td>Panama</td>\n",
       "      <td>116.00000</td>\n",
       "    </tr>\n",
       "    <tr>\n",
       "      <th>59</th>\n",
       "      <td>Iran, Islamic Rep.</td>\n",
       "      <td>45.40000</td>\n",
       "    </tr>\n",
       "  </tbody>\n",
       "</table>\n",
       "</div>"
      ],
      "text/plain": [
       "                            country  meanCaloricDeficit\n",
       "3                        Arab World            66.87245\n",
       "124  St. Vincent and the Grenadines            54.00000\n",
       "20         Central African Republic           287.00000\n",
       "45                        Guatemala            97.40000\n",
       "108                        Paraguay            79.40000\n",
       "123                       Sri Lanka           234.80000\n",
       "112                          Rwanda           295.90000\n",
       "62                           Jordan            12.50000\n",
       "107                          Panama           116.00000\n",
       "59               Iran, Islamic Rep.            45.40000"
      ]
     },
     "execution_count": 6,
     "metadata": {},
     "output_type": "execute_result"
    }
   ],
   "source": [
    "# drop level=1 labeled row and rename 2nd column\n",
    "foodDefStats_df.columns = foodDefStats_df.columns.droplevel(1)\n",
    "foodDefStats_df.rename(columns={'caloricDeficit':'meanCaloricDeficit'},inplace=True)\n",
    "foodDefStats_df.sample(n=10)"
   ]
  },
  {
   "cell_type": "code",
   "execution_count": 7,
   "metadata": {
    "collapsed": false
   },
   "outputs": [
    {
     "data": {
      "text/plain": [
       "[<matplotlib.text.Text at 0x11dd1e0b8>,\n",
       " <matplotlib.text.Text at 0x11dd61240>,\n",
       " <matplotlib.text.Text at 0x11df29390>,\n",
       " <matplotlib.text.Text at 0x11dd415c0>,\n",
       " <matplotlib.text.Text at 0x11dd35dd8>,\n",
       " <matplotlib.text.Text at 0x11dd1e668>,\n",
       " <matplotlib.text.Text at 0x11df2d048>,\n",
       " <matplotlib.text.Text at 0x11dd905f8>,\n",
       " <matplotlib.text.Text at 0x11df3e278>,\n",
       " <matplotlib.text.Text at 0x11df45ba8>,\n",
       " <matplotlib.text.Text at 0x11df4b908>,\n",
       " <matplotlib.text.Text at 0x11df507b8>,\n",
       " <matplotlib.text.Text at 0x11df55860>,\n",
       " <matplotlib.text.Text at 0x11df5a470>,\n",
       " <matplotlib.text.Text at 0x11df60278>,\n",
       " <matplotlib.text.Text at 0x11df66080>,\n",
       " <matplotlib.text.Text at 0x11df69080>,\n",
       " <matplotlib.text.Text at 0x11df69f60>,\n",
       " <matplotlib.text.Text at 0x11df6f588>,\n",
       " <matplotlib.text.Text at 0x11df905f8>,\n",
       " <matplotlib.text.Text at 0x11df97a90>,\n",
       " <matplotlib.text.Text at 0x11df9d7f0>]"
      ]
     },
     "execution_count": 7,
     "metadata": {},
     "output_type": "execute_result"
    },
    {
     "data": {
      "image/png": "[encoded data removed]",
      "text/plain": [
       "<matplotlib.figure.Figure at 0x11dd09748>"
      ]
     },
     "metadata": {},
     "output_type": "display_data"
    }
   ],
   "source": [
    "# Visualize differences in food shortages by severity\n",
    "foodDefStats_df.sort_values('meanCaloricDeficit',ascending=True,inplace=True)\n",
    "\n",
    "# only pick up the rougher shortages (since there are too many already)\n",
    "foodDefHigh_df = foodDefStats_df.loc[ foodDefStats_df.loc[:,'meanCaloricDeficit'] > 200 ]\n",
    "ax = foodDefHigh_df.plot(kind='bar')\n",
    "ax.set_title('food shortages by country')\n",
    "ax.set_xticklabels(foodDefHigh_df.country)"
   ]
  },
  {
   "cell_type": "markdown",
   "metadata": {},
   "source": [
    "### Questions and answers\n",
    "Of course, measuring caloric deficits is not something easy to do, so the bar plot about is only suggestive.  Haiti was severely hit by an earthquake a few years ago and my by the reason it has such high food shortages.  This can be investigated further by comparing caloric deficit before and after the earthquake."
   ]
  },
  {
   "cell_type": "code",
   "execution_count": 8,
   "metadata": {
    "collapsed": false
   },
   "outputs": [
    {
     "data": {
      "text/html": [
       "<div>\n",
       "<table border=\"1\" class=\"dataframe\">\n",
       "  <thead>\n",
       "    <tr style=\"text-align: right;\">\n",
       "      <th></th>\n",
       "      <th>country</th>\n",
       "      <th>meanCaloricDeficit</th>\n",
       "      <th>lat</th>\n",
       "      <th>lng</th>\n",
       "    </tr>\n",
       "  </thead>\n",
       "  <tbody>\n",
       "    <tr>\n",
       "      <th>0</th>\n",
       "      <td>Congo, Rep.</td>\n",
       "      <td>213.700000</td>\n",
       "      <td>-4.304398</td>\n",
       "      <td>15.312098</td>\n",
       "    </tr>\n",
       "    <tr>\n",
       "      <th>1</th>\n",
       "      <td>Low income</td>\n",
       "      <td>215.498774</td>\n",
       "      <td>45.881249</td>\n",
       "      <td>-98.153458</td>\n",
       "    </tr>\n",
       "    <tr>\n",
       "      <th>2</th>\n",
       "      <td>Timor-Leste</td>\n",
       "      <td>217.100000</td>\n",
       "      <td>-8.874217</td>\n",
       "      <td>125.727539</td>\n",
       "    </tr>\n",
       "    <tr>\n",
       "      <th>3</th>\n",
       "      <td>Mongolia</td>\n",
       "      <td>221.000000</td>\n",
       "      <td>46.862496</td>\n",
       "      <td>103.846656</td>\n",
       "    </tr>\n",
       "    <tr>\n",
       "      <th>4</th>\n",
       "      <td>Botswana</td>\n",
       "      <td>222.600000</td>\n",
       "      <td>-22.328474</td>\n",
       "      <td>24.684866</td>\n",
       "    </tr>\n",
       "  </tbody>\n",
       "</table>\n",
       "</div>"
      ],
      "text/plain": [
       "       country  meanCaloricDeficit        lat         lng\n",
       "0  Congo, Rep.          213.700000  -4.304398   15.312098\n",
       "1   Low income          215.498774  45.881249  -98.153458\n",
       "2  Timor-Leste          217.100000  -8.874217  125.727539\n",
       "3     Mongolia          221.000000  46.862496  103.846656\n",
       "4     Botswana          222.600000 -22.328474   24.684866"
      ]
     },
     "execution_count": 8,
     "metadata": {},
     "output_type": "execute_result"
    }
   ],
   "source": [
    "# world map using folium\n",
    "# for convenience:\n",
    "df = foodDefHigh_df.reset_index(drop=True)\n",
    "# add latitude and longitude information to dataframe\n",
    "    # create two additional columns for lattitude and longitude.\n",
    "df['lat'], df['lng'] = [0, 0]\n",
    "    # convert country to lat and long coordinates\n",
    "df.head()\n",
    "for i in range(len(df)):\n",
    "    g = geocoder.google(df.loc[i,'country'])\n",
    "    df.ix[i,'lat'] = g.lat\n",
    "    df.ix[i,'lng'] = g.lng\n",
    "\n",
    "# drop cases where the country could not be geocoded\n",
    "df.dropna(inplace=True)\n",
    "df.reset_index(inplace=True,drop=True)\n",
    "df.head()"
   ]
  },
  {
   "cell_type": "code",
   "execution_count": 9,
   "metadata": {
    "collapsed": false
   },
   "outputs": [
    {
     "name": "stdout",
     "output_type": "stream",
     "text": [
      "length of df = 20 \n"
     ]
    },
    {
     "data": {
      "text/html": [
       "<div style=\"width:100%;\"><div style=\"position:relative;width:100%;height:0;padding-bottom:60%;\"><iframe src=\"data:text/html;base64,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\" style=\"position:absolute;width:100%;height:100%;left:0;top:0;\"></iframe></div></div>"
      ],
      "text/plain": [
       "<folium.folium.Map at 0x11dd7a748>"
      ]
     },
     "execution_count": 9,
     "metadata": {},
     "output_type": "execute_result"
    }
   ],
   "source": [
    "# Set map center and zoom level\n",
    "mapc = [0, 30] # in [latitude,longitude]\n",
    "zoom = 2\n",
    "\n",
    "# Create map object.\n",
    "map_osm = folium.Map(location=mapc,\n",
    "#                     tiles='Stamen Toner',\n",
    "                    zoom_start=zoom)\n",
    "print(\"length of df = {:} \".format(len(df)))\n",
    "\n",
    "# Plot each of the locations that we geocoded.\n",
    "for j in range(len(df)):\n",
    "    # Plot a red circle marker for country food shortage.\n",
    "    folium.CircleMarker([df.lat[j], df.lng[j]],\n",
    "                    radius=df.meanCaloricDeficit[j]*1e3,\n",
    "                    popup='meanCaloricDeficit',\n",
    "                    color='red',\n",
    "                    fill_color='red',\n",
    "                   ).add_to(map_osm)\n",
    "\n",
    "# Show the map.\n",
    "map_osm\n"
   ]
  },
  {
   "cell_type": "markdown",
   "metadata": {},
   "source": [
    "### Fun with folium\n",
    "The folium package is an easy module to use for plotting data on earth.  This is nice for prsentations and web graphics."
   ]
  }
 ],
 "metadata": {
  "kernelspec": {
   "display_name": "Python [Root]",
   "language": "python",
   "name": "Python [Root]"
  },
  "language_info": {
   "codemirror_mode": {
    "name": "ipython",
    "version": 3
   },
   "file_extension": ".py",
   "mimetype": "text/x-python",
   "name": "python",
   "nbconvert_exporter": "python",
   "pygments_lexer": "ipython3",
   "version": "3.5.2"
  }
 },
 "nbformat": 4,
 "nbformat_minor": 0
}
